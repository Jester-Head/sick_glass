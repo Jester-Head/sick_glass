{
 "cells": [
  {
   "cell_type": "code",
   "execution_count": null,
   "metadata": {},
   "outputs": [],
   "source": [
    "import os\n",
    "from time import sleep\n",
    "from random import randint\n",
    "\n",
    "import pandas as pd\n",
    "import undetected_chromedriver.v2 as uc\n",
    "from selenium import webdriver\n",
    "from selenium.webdriver.chrome.service import Service\n",
    "from selenium.webdriver.common.by import By\n",
    "from selenium.webdriver.support import expected_conditions as EC\n",
    "from selenium.webdriver.support.ui import WebDriverWait\n",
    "from selenium.webdriver.common.keys import Keys\n",
    "from selenium.webdriver.common.action_chains import ActionChains\n",
    "from selenium.common.exceptions import NoSuchElementException\n",
    "from selenium.common.exceptions import ElementNotInteractableException\n",
    "from selenium.webdriver.chrome.options import Options\n",
    "from selenium.webdriver.common.desired_capabilities import DesiredCapabilities"
   ]
  },
  {
   "cell_type": "code",
   "execution_count": 22,
   "metadata": {},
   "outputs": [
    {
     "name": "stdout",
     "output_type": "stream",
     "text": [
      "<class 'pandas.core.frame.DataFrame'>\n",
      "RangeIndex: 1456 entries, 0 to 1455\n",
      "Data columns (total 3 columns):\n",
      " #   Column    Non-Null Count  Dtype \n",
      "---  ------    --------------  ----- \n",
      " 0   insult    1456 non-null   object\n",
      " 1   category  1456 non-null   object\n",
      " 2   link      1456 non-null   object\n",
      "dtypes: object(3)\n",
      "memory usage: 34.2+ KB\n"
     ]
    }
   ],
   "source": [
    "df = pd.read_csv('..\\data\\insult_names.csv')\n",
    "df.info()"
   ]
  },
  {
   "cell_type": "code",
   "execution_count": null,
   "metadata": {},
   "outputs": [],
   "source": [
    "df.drop_duplicates(inplace=True)\n",
    "df.info()"
   ]
  },
  {
   "cell_type": "code",
   "execution_count": null,
   "metadata": {},
   "outputs": [],
   "source": [
    "# insult = df.loc[df['name'] == 'nsfw',['insult']]"
   ]
  },
  {
   "cell_type": "code",
   "execution_count": null,
   "metadata": {},
   "outputs": [],
   "source": [
    "df['insult'] = [i.lower() for i in df['insult']]"
   ]
  },
  {
   "cell_type": "code",
   "execution_count": null,
   "metadata": {},
   "outputs": [],
   "source": [
    "df[df['insult'].str.contains('[0-9]') == True]\n",
    "\n"
   ]
  },
  {
   "cell_type": "code",
   "execution_count": null,
   "metadata": {},
   "outputs": [],
   "source": [
    "df['insult']=df['insult'].apply(lambda x: x.replace('0','o'))\n",
    "df['insult']=df['insult'].apply(lambda x: x.replace('5','s'))\n",
    "df['insult']=df['insult'].apply(lambda x: x.replace('1','i'))\n",
    "df['insult']=df['insult'].apply(lambda x: x.replace('3','e'))\n",
    "df\n"
   ]
  },
  {
   "cell_type": "code",
   "execution_count": null,
   "metadata": {},
   "outputs": [],
   "source": [
    "curse = df[df['insult'].str.contains(r'\\*') == True]\n",
    "curse[curse['insult'].str.contains(r'sh\\*t')==True]\n",
    "\n",
    "\n",
    "\n",
    "\n",
    "df['insult']=df['insult']=df['insult'].apply(lambda x: x.replace('**','uc'))\n",
    "df['insult']=df['insult']=df['insult'].apply(lambda x: x.replace('*','i'))\n",
    "df['insult']=df['insult']=df['insult'].apply(lambda x: x.replace('slvt','slut'))\n",
    "df['insult']=df['insult']=df['insult'].apply(lambda x: x.replace('!',''))\n",
    "df['insult']=df['insult']=df['insult'].apply(lambda x: x.replace('you',''))\n",
    "df['insult']=df['insult']=df['insult'].apply(lambda x: x.replace('thou',''))\n",
    "df['insult']=df['insult'].str.strip()\n",
    "\n",
    "# df[df['link'] == 'http://robietherobot.com/insult-generator.htm']"
   ]
  },
  {
   "cell_type": "code",
   "execution_count": null,
   "metadata": {},
   "outputs": [],
   "source": [
    "# df[df['insult'].str.contains('slut')]\n",
    "# df[df['insult'].str.contains(r'\\*')]\n",
    "df"
   ]
  },
  {
   "cell_type": "code",
   "execution_count": 24,
   "metadata": {},
   "outputs": [],
   "source": [
    "def clean_data(df):\n",
    "    df.drop_duplicates(inplace=True)\n",
    "    df['insult'] = [i.lower() for i in df['insult']]\n",
    "    df['insult']=df['insult'].apply(lambda x: x.replace('0','o'))\n",
    "    df['insult']=df['insult'].apply(lambda x: x.replace('5','s'))\n",
    "    df['insult']=df['insult'].apply(lambda x: x.replace('1','i'))\n",
    "    df['insult']=df['insult'].apply(lambda x: x.replace('3','e'))\n",
    "    df['insult']=df['insult']=df['insult'].apply(lambda x: x.replace('**','uc'))\n",
    "    df['insult']=df['insult']=df['insult'].apply(lambda x: x.replace('*','i'))\n",
    "    df['insult']=df['insult']=df['insult'].apply(lambda x: x.replace('slvt','slut'))\n",
    "    df['insult']=df['insult']=df['insult'].apply(lambda x: x.replace('!',''))\n",
    "    df['insult']=df['insult']=df['insult'].apply(lambda x: x.replace('you',''))\n",
    "    df['insult']=df['insult']=df['insult'].apply(lambda x: x.replace('thou',''))\n",
    "    df['insult']=df['insult'].str.strip()\n",
    "    return df"
   ]
  },
  {
   "cell_type": "code",
   "execution_count": 31,
   "metadata": {},
   "outputs": [],
   "source": [
    "df = clean_data(df)\n",
    "df.to_csv('..\\data\\insult_names.csv',index=False)"
   ]
  },
  {
   "cell_type": "code",
   "execution_count": null,
   "metadata": {},
   "outputs": [],
   "source": []
  }
 ],
 "metadata": {
  "kernelspec": {
   "display_name": "Python 3.10.8 ('InsultGenpy310')",
   "language": "python",
   "name": "python3"
  },
  "language_info": {
   "codemirror_mode": {
    "name": "ipython",
    "version": 3
   },
   "file_extension": ".py",
   "mimetype": "text/x-python",
   "name": "python",
   "nbconvert_exporter": "python",
   "pygments_lexer": "ipython3",
   "version": "3.10.8"
  },
  "orig_nbformat": 4,
  "vscode": {
   "interpreter": {
    "hash": "7a43e203ca7030a494ec583bd901c3ac9e8893dd4e47a241154ad62e3079c7a5"
   }
  }
 },
 "nbformat": 4,
 "nbformat_minor": 2
}
